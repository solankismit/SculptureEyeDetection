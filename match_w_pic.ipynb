{
 "cells": [
  {
   "cell_type": "code",
   "execution_count": 8,
   "metadata": {},
   "outputs": [],
   "source": [
    "import cv2\n",
    "import numpy as np\n"
   ]
  },
  {
   "cell_type": "code",
   "execution_count": 14,
   "metadata": {},
   "outputs": [],
   "source": [
    "# template = cv2.imread('data/dottedimg2.png',cv2.IMREAD_COLOR)\n",
    "# template = cv2.cvtColor(template, cv2.COLOR_BGR2GRAY)\n",
    "\n",
    "template = cv2.imread('data/dottedimg2.png', cv2.IMREAD_GRAYSCALE)\n",
    "\n",
    "# template = cv2.resize(template, (new_width, new_height))\n",
    "\n",
    "# SHow template\n",
    "# cv2.imshow('Template',template)\n",
    "# cv2.waitKey(0)\n"
   ]
  },
  {
   "cell_type": "code",
   "execution_count": 15,
   "metadata": {},
   "outputs": [],
   "source": [
    "cap = cv2.VideoCapture(0)\n"
   ]
  },
  {
   "cell_type": "code",
   "execution_count": 26,
   "metadata": {},
   "outputs": [
    {
     "ename": "error",
     "evalue": "OpenCV(4.7.0) D:\\a\\opencv-python\\opencv-python\\opencv\\modules\\imgproc\\src\\templmatch.cpp:1175: error: (-215:Assertion failed) _img.size().height <= _templ.size().height && _img.size().width <= _templ.size().width in function 'cv::matchTemplate'\n",
     "output_type": "error",
     "traceback": [
      "\u001b[1;31m---------------------------------------------------------------------------\u001b[0m",
      "\u001b[1;31merror\u001b[0m                                     Traceback (most recent call last)",
      "Cell \u001b[1;32mIn[26], line 8\u001b[0m\n\u001b[0;32m      6\u001b[0m gray_frame \u001b[39m=\u001b[39m gray_frame\u001b[39m.\u001b[39mastype(\u001b[39m'\u001b[39m\u001b[39mfloat32\u001b[39m\u001b[39m'\u001b[39m)  \u001b[39m# Convert to float32\u001b[39;00m\n\u001b[0;32m      7\u001b[0m template \u001b[39m=\u001b[39m template\u001b[39m.\u001b[39mastype(\u001b[39m'\u001b[39m\u001b[39mfloat32\u001b[39m\u001b[39m'\u001b[39m)  \u001b[39m# Convert to float32\u001b[39;00m\n\u001b[1;32m----> 8\u001b[0m res \u001b[39m=\u001b[39m cv2\u001b[39m.\u001b[39;49mmatchTemplate(gray_frame, template, cv2\u001b[39m.\u001b[39;49mTM_CCOEFF_NORMED)\n\u001b[0;32m     10\u001b[0m threshold \u001b[39m=\u001b[39m \u001b[39m0.8\u001b[39m\n\u001b[0;32m     11\u001b[0m loc \u001b[39m=\u001b[39m np\u001b[39m.\u001b[39mwhere(res \u001b[39m>\u001b[39m\u001b[39m=\u001b[39m threshold)\n",
      "\u001b[1;31merror\u001b[0m: OpenCV(4.7.0) D:\\a\\opencv-python\\opencv-python\\opencv\\modules\\imgproc\\src\\templmatch.cpp:1175: error: (-215:Assertion failed) _img.size().height <= _templ.size().height && _img.size().width <= _templ.size().width in function 'cv::matchTemplate'\n"
     ]
    }
   ],
   "source": [
    "while True:\n",
    "    ret, frame = cap.read()\n",
    "    if not ret:\n",
    "        break\n",
    "    gray_frame = cv2.cvtColor(frame, cv2.COLOR_BGR2GRAY)\n",
    "    gray_frame = gray_frame.astype('float32')  # Convert to float32\n",
    "    template = template.astype('float32')  # Convert to float32\n",
    "    res = cv2.matchTemplate(gray_frame, template, cv2.TM_CCOEFF_NORMED)\n",
    "\n",
    "    threshold = 0.8\n",
    "    loc = np.where(res >= threshold)\n",
    "    w, h = template.shape[::-1]\n",
    "    for pt in zip(*loc[::-1]):\n",
    "        cv2.rectangle(frame, pt, (pt[0] + w, pt[1] + h), (0, 0, 255), 2)\n",
    "        cv2.imshow('frame', frame)\n",
    "    if cv2.waitKey(1) & 0xFF == ord('q'):\n",
    "        break\n",
    "cap.release()\n",
    "cv2.destroyAllWindows()\n",
    "\n",
    "\n"
   ]
  },
  {
   "cell_type": "code",
   "execution_count": null,
   "metadata": {},
   "outputs": [],
   "source": []
  }
 ],
 "metadata": {
  "kernelspec": {
   "display_name": ".myenv",
   "language": "python",
   "name": "python3"
  },
  "language_info": {
   "codemirror_mode": {
    "name": "ipython",
    "version": 3
   },
   "file_extension": ".py",
   "mimetype": "text/x-python",
   "name": "python",
   "nbconvert_exporter": "python",
   "pygments_lexer": "ipython3",
   "version": "3.11.4"
  },
  "orig_nbformat": 4
 },
 "nbformat": 4,
 "nbformat_minor": 2
}
